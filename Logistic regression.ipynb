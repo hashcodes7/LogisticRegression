import pandas as pd

diabetes = pd.read_csv(r'https://github.com/Yantra-Byte/Dataset/raw/main/Diabetes.csv')

diabetes.head()

diabetes.columns

X = diabetes[['pregnancies', 'glucose', 'diastolic', 'triceps', 'insulin', 'bmi',
       'dpf', 'age']]

X.shape

y = diabetes['diabetes']

y.shape

from sklearn.model_selection import train_test_split

X_train, X_test, y_train, y_test = train_test_split(X, y, train_size = 0.7, random_state = 252)

X_train, X_test, y_train, y_test = train_test_split(X, y, test_size = 0.3, random_state = 252)

X_train.shape, X_test.shape, y_train.shape, y_test.shape

from sklearn.linear_model import LogisticRegression

log = LogisticRegression()

log.fit(X_train, y_train)

y_pred = log.predict(X_test)

y_pred.shape

y_test.shape

y_test.values

y_pred

log.predict_proba(X_test)

# Evaluate

from sklearn.metrics import confusion_matrix, classification_report

cm = confusion_matrix(y_test, y_pred)
cm

cm1 = confusion_matrix( y_pred, y_test)
cm1

import seaborn as sns

sns.heatmap(cm, annot = True, fmt = 'd')

133+20+36+42

153+78

(133+42)/231

print(classification_report(y_test, y_pred))
